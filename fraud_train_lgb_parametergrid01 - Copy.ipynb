{
 "cells": [
  {
   "cell_type": "code",
   "execution_count": 1,
   "metadata": {
    "collapsed": true
   },
   "outputs": [],
   "source": [
    "%matplotlib inline\n",
    "import pandas as pd\n",
    "import lightgbm as lgb\n",
    "import numpy as np\n",
    "import os\n",
    "from __future__ import division\n",
    "from sklearn.model_selection import train_test_split\n",
    "from sklearn.metrics import roc_auc_score,roc_curve\n",
    "from sklearn.model_selection import ParameterGrid\n",
    "import datetime\n",
    "pd.set_option('display.max_rows', 1000)\n",
    "pd.set_option('display.max_columns', 1000)"
   ]
  },
  {
   "cell_type": "code",
   "execution_count": 2,
   "metadata": {
    "collapsed": true
   },
   "outputs": [],
   "source": [
    "df_train=pd.read_csv('data/atec_anti_fraud_train.csv', parse_dates=['date'])"
   ]
  },
  {
   "cell_type": "code",
   "execution_count": 3,
   "metadata": {
    "collapsed": true
   },
   "outputs": [],
   "source": [
    "df_train_clean=df_train.loc[df_train['label']!=-1]\n",
    "del df_train"
   ]
  },
  {
   "cell_type": "code",
   "execution_count": 4,
   "metadata": {
    "collapsed": true
   },
   "outputs": [],
   "source": [
    "y=df_train_clean['label']\n",
    "X=df_train_clean.drop(['id','label','date'],axis=1)\n",
    "cut_date_train=datetime.datetime(2017,10,20)\n",
    "cut_date_test=datetime.datetime(2017,11,1)"
   ]
  },
  {
   "cell_type": "code",
   "execution_count": 5,
   "metadata": {
    "collapsed": true
   },
   "outputs": [],
   "source": [
    "x_train=X[df_train_clean.date<=cut_date_train]\n",
    "x_test=X[df_train_clean.date>=cut_date_test]\n",
    "y_train=y[df_train_clean.date<=cut_date_train]\n",
    "y_test=y[df_train_clean.date>=cut_date_test]"
   ]
  },
  {
   "cell_type": "code",
   "execution_count": 6,
   "metadata": {
    "collapsed": true
   },
   "outputs": [],
   "source": [
    "num_values=2000\n",
    "category_feature=[]\n",
    "for i in range(X.shape[1]):\n",
    "    num = X['f'+str(i+1)].unique().shape[0]\n",
    "    if num <=num_values:\n",
    "        category_feature.append(i)"
   ]
  },
  {
   "cell_type": "code",
   "execution_count": 7,
   "metadata": {
    "collapsed": true
   },
   "outputs": [],
   "source": [
    "del df_train_clean, X, y"
   ]
  },
  {
   "cell_type": "code",
   "execution_count": 8,
   "metadata": {
    "collapsed": true
   },
   "outputs": [],
   "source": [
    "def atec_metric(preds, train_data):\n",
    "    labels = train_data.get_label()\n",
    "    fpr,tpr,threshhold=roc_curve(labels, preds)\n",
    "    return 'atec_metric', 0.4*tpr[fpr<=0.001][-1] + 0.3*tpr[fpr<=0.005][-1] + 0.3*tpr[fpr<=0.01][-1], True"
   ]
  },
  {
   "cell_type": "code",
   "execution_count": 9,
   "metadata": {
    "collapsed": true
   },
   "outputs": [],
   "source": [
    "feature_name=['feasture_'+str(col+1) for col in range(x_train.shape[1])]\n",
    "lgb_train=lgb.Dataset(x_train,y_train,free_raw_data=False,feature_name=feature_name, categorical_feature=category_feature)\n",
    "lgb_valid=lgb.Dataset(x_test,y_test,reference=lgb_train,free_raw_data=False,feature_name=feature_name, categorical_feature=category_feature)"
   ]
  },
  {
   "cell_type": "code",
   "execution_count": 10,
   "metadata": {
    "collapsed": true
   },
   "outputs": [],
   "source": [
    "params = {\n",
    "    'boosting_type': 'gbdt',\n",
    "    'objective': 'binary',\n",
    "    'metric': 'auc',\n",
    "    'device': 'cpu',\n",
    "    'verbose': 0,\n",
    "    'early_stopping_round': 100,\n",
    "    'learning_rate': 0.01\n",
    "}\n"
   ]
  },
  {
   "cell_type": "code",
   "execution_count": 13,
   "metadata": {
    "collapsed": true
   },
   "outputs": [],
   "source": [
    "params_grid = {\n",
    "    'num_leaves': [64,128],\n",
    "    #'lambda_l2': 0.002*np.arange(11),\n",
    "    'lambda_l1': 0.002*np.arange(11),\n",
    "    'feature_fraction': [0.9],\n",
    "    'bagging_fraction': [0.8],\n",
    "    'bagging_freq': [5],\n",
    "}\n",
    "params_list=ParameterGrid(params_grid)"
   ]
  },
  {
   "cell_type": "code",
   "execution_count": 14,
   "metadata": {},
   "outputs": [
    {
     "name": "stderr",
     "output_type": "stream",
     "text": [
      "C:\\Users\\Dong\\Anaconda3\\lib\\site-packages\\lightgbm\\engine.py:104: UserWarning: Found `early_stopping_round` in params. Will use it instead of argument\n",
      "  warnings.warn(\"Found `{}` in params. Will use it instead of argument\".format(alias))\n",
      "C:\\Users\\Dong\\Anaconda3\\lib\\site-packages\\lightgbm\\basic.py:1036: UserWarning: Using categorical_feature in Dataset.\n",
      "  warnings.warn('Using categorical_feature in Dataset.')\n",
      "C:\\Users\\Dong\\Anaconda3\\lib\\site-packages\\lightgbm\\basic.py:681: UserWarning: categorical_feature in param dict is overridden.\n",
      "  warnings.warn('categorical_feature in param dict is overridden.')\n"
     ]
    },
    {
     "name": "stdout",
     "output_type": "stream",
     "text": [
      "params:  {'bagging_fraction': 0.8, 'bagging_freq': 5, 'feature_fraction': 0.9, 'lambda_l1': 0.0, 'num_leaves': 64} \n",
      "score:  0.5111434108527132\n",
      "params:  {'bagging_fraction': 0.8, 'bagging_freq': 5, 'feature_fraction': 0.9, 'lambda_l1': 0.0, 'num_leaves': 128} \n",
      "score:  0.5147286821705426\n",
      "params:  {'bagging_fraction': 0.8, 'bagging_freq': 5, 'feature_fraction': 0.9, 'lambda_l1': 0.002, 'num_leaves': 64} \n",
      "score:  0.5095930232558139\n",
      "params:  {'bagging_fraction': 0.8, 'bagging_freq': 5, 'feature_fraction': 0.9, 'lambda_l1': 0.002, 'num_leaves': 128} \n",
      "score:  0.5151162790697674\n",
      "params:  {'bagging_fraction': 0.8, 'bagging_freq': 5, 'feature_fraction': 0.9, 'lambda_l1': 0.004, 'num_leaves': 64} \n",
      "score:  0.5107558139534883\n",
      "params:  {'bagging_fraction': 0.8, 'bagging_freq': 5, 'feature_fraction': 0.9, 'lambda_l1': 0.004, 'num_leaves': 128} \n",
      "score:  0.5121124031007751\n",
      "params:  {'bagging_fraction': 0.8, 'bagging_freq': 5, 'feature_fraction': 0.9, 'lambda_l1': 0.006, 'num_leaves': 64} \n",
      "score:  0.5108527131782945\n",
      "params:  {'bagging_fraction': 0.8, 'bagging_freq': 5, 'feature_fraction': 0.9, 'lambda_l1': 0.006, 'num_leaves': 128} \n",
      "score:  0.5185077519379845\n",
      "params:  {'bagging_fraction': 0.8, 'bagging_freq': 5, 'feature_fraction': 0.9, 'lambda_l1': 0.008, 'num_leaves': 64} \n",
      "score:  0.509205426356589\n",
      "params:  {'bagging_fraction': 0.8, 'bagging_freq': 5, 'feature_fraction': 0.9, 'lambda_l1': 0.008, 'num_leaves': 128} \n",
      "score:  0.5142441860465116\n",
      "params:  {'bagging_fraction': 0.8, 'bagging_freq': 5, 'feature_fraction': 0.9, 'lambda_l1': 0.01, 'num_leaves': 64} \n",
      "score:  0.5101744186046512\n",
      "params:  {'bagging_fraction': 0.8, 'bagging_freq': 5, 'feature_fraction': 0.9, 'lambda_l1': 0.01, 'num_leaves': 128} \n",
      "score:  0.5152131782945737\n",
      "params:  {'bagging_fraction': 0.8, 'bagging_freq': 5, 'feature_fraction': 0.9, 'lambda_l1': 0.012, 'num_leaves': 64} \n",
      "score:  0.5082364341085271\n",
      "params:  {'bagging_fraction': 0.8, 'bagging_freq': 5, 'feature_fraction': 0.9, 'lambda_l1': 0.012, 'num_leaves': 128} \n",
      "score:  0.5145348837209303\n",
      "params:  {'bagging_fraction': 0.8, 'bagging_freq': 5, 'feature_fraction': 0.9, 'lambda_l1': 0.014, 'num_leaves': 64} \n",
      "score:  0.5086240310077519\n",
      "params:  {'bagging_fraction': 0.8, 'bagging_freq': 5, 'feature_fraction': 0.9, 'lambda_l1': 0.014, 'num_leaves': 128} \n",
      "score:  0.5110465116279069\n",
      "params:  {'bagging_fraction': 0.8, 'bagging_freq': 5, 'feature_fraction': 0.9, 'lambda_l1': 0.016, 'num_leaves': 64} \n",
      "score:  0.5085271317829457\n",
      "params:  {'bagging_fraction': 0.8, 'bagging_freq': 5, 'feature_fraction': 0.9, 'lambda_l1': 0.016, 'num_leaves': 128} \n",
      "score:  0.5111434108527132\n",
      "params:  {'bagging_fraction': 0.8, 'bagging_freq': 5, 'feature_fraction': 0.9, 'lambda_l1': 0.018000000000000002, 'num_leaves': 64} \n",
      "score:  0.5089147286821705\n",
      "params:  {'bagging_fraction': 0.8, 'bagging_freq': 5, 'feature_fraction': 0.9, 'lambda_l1': 0.018000000000000002, 'num_leaves': 128} \n",
      "score:  0.5114341085271318\n",
      "params:  {'bagging_fraction': 0.8, 'bagging_freq': 5, 'feature_fraction': 0.9, 'lambda_l1': 0.02, 'num_leaves': 64} \n",
      "score:  0.5126937984496124\n",
      "params:  {'bagging_fraction': 0.8, 'bagging_freq': 5, 'feature_fraction': 0.9, 'lambda_l1': 0.02, 'num_leaves': 128} \n",
      "score:  0.5103682170542636\n"
     ]
    }
   ],
   "source": [
    "best_params = []\n",
    "scores = dict()\n",
    "best_score = 0\n",
    "for p in list(params_list):\n",
    "    p0 = params.copy()\n",
    "    p0.update(p)\n",
    "    gbm = lgb.train(p0, lgb_train, num_boost_round=10000, valid_sets=lgb_valid, valid_names='valid_set', feval=atec_metric, verbose_eval=False)\n",
    "    score = atec_metric(gbm.predict(x_test), lgb_valid)[1]\n",
    "    print(\"params: \", p, \"\\n\"+\"score: \", score)\n",
    "    if score > best_score:\n",
    "        best_score = score\n",
    "        best_params = p0"
   ]
  },
  {
   "cell_type": "code",
   "execution_count": 15,
   "metadata": {},
   "outputs": [
    {
     "name": "stdout",
     "output_type": "stream",
     "text": [
      "0.5185077519379845 {'boosting_type': 'gbdt', 'objective': 'binary', 'metric': 'auc', 'device': 'cpu', 'verbose': 0, 'learning_rate': 0.01, 'bagging_fraction': 0.8, 'bagging_freq': 5, 'feature_fraction': 0.9, 'lambda_l1': 0.006, 'num_leaves': 128}\n"
     ]
    }
   ],
   "source": [
    "print(best_score,best_params)"
   ]
  },
  {
   "cell_type": "code",
   "execution_count": null,
   "metadata": {
    "collapsed": true
   },
   "outputs": [],
   "source": []
  }
 ],
 "metadata": {
  "kernelspec": {
   "display_name": "Python 3",
   "language": "python",
   "name": "python3"
  },
  "language_info": {
   "codemirror_mode": {
    "name": "ipython",
    "version": 3
   },
   "file_extension": ".py",
   "mimetype": "text/x-python",
   "name": "python",
   "nbconvert_exporter": "python",
   "pygments_lexer": "ipython3",
   "version": "3.6.3"
  }
 },
 "nbformat": 4,
 "nbformat_minor": 2
}
