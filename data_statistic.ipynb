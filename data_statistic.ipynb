{
 "cells": [
  {
   "cell_type": "code",
   "execution_count": 135,
   "metadata": {
    "collapsed": true
   },
   "outputs": [],
   "source": [
    "import pandas as pd\n",
    "import lightgbm as lgb\n",
    "import numpy as np\n",
    "import os\n",
    "from __future__ import division\n",
    "from sklearn.model_selection import train_test_split\n",
    "from sklearn.metrics import roc_auc_score,roc_curve\n",
    "from sklearn.model_selection import ParameterGrid\n",
    "from scipy.stats import entropy\n",
    "import datetime\n",
    "pd.set_option('display.max_rows', 10)\n",
    "pd.set_option('display.max_columns', 10)"
   ]
  },
  {
   "cell_type": "code",
   "execution_count": 142,
   "metadata": {
    "collapsed": true
   },
   "outputs": [],
   "source": [
    "df=pd.read_csv('data/atec_anti_fraud_train.csv', parse_dates=['date'])"
   ]
  },
  {
   "cell_type": "code",
   "execution_count": 143,
   "metadata": {},
   "outputs": [],
   "source": [
    "df_all=df.loc[df['label']!=-1]\n",
    "df_positive=df_all.loc[df_all['label']==1]\n",
    "x_all=df_all.drop(['id','label','date'],axis=1)\n",
    "x_positive=df_positive.drop(['id','label','date'],axis=1)\n",
    "del df,df_all,df_positive"
   ]
  },
  {
   "cell_type": "code",
   "execution_count": 144,
   "metadata": {},
   "outputs": [],
   "source": [
    "num_samples=x_all.shape[0]\n",
    "num_features=x_all.shape[1]\n",
    "num_positive=x_positive.shape[0]\n",
    "threshhold4category=1000\n",
    "ratio_positive=num_positive/num_samples"
   ]
  },
  {
   "cell_type": "code",
   "execution_count": 157,
   "metadata": {},
   "outputs": [],
   "source": [
    "feature_counts={}\n",
    "for i in range(num_features):\n",
    "    detail={}\n",
    "    detail['num_values']=x_all['f'+str(i+1)].unique().shape[0]\n",
    "    if detail['num_values']<=threshhold4category:\n",
    "        detail['feature_type']='categorical'\n",
    "    else:\n",
    "        detail['feature_type']='numerical'\n",
    "        detail['std4all']=x_all['f'+str(i+1)].std()\n",
    "        detail['mean4all']=x_all['f'+str(i+1)].mean()\n",
    "        detail['std4positive']=x_positive['f'+str(i+1)].std()\n",
    "        detail['mean4positive']=x_positive['f'+str(i+1)].mean()\n",
    "    detail['count4all']=x_all['f'+str(i+1)].value_counts()\n",
    "    dist=pd.Series(x_positive['f'+str(i+1)].value_counts(),index=detail['count4all'].axes)\n",
    "    detail['count4positive']=dist.fillna(0)\n",
    "    feature_counts['f'+str(i+1)]=detail"
   ]
  },
  {
   "cell_type": "code",
   "execution_count": 163,
   "metadata": {},
   "outputs": [],
   "source": [
    "KLmetric=pd.Series(index=np.arange(num_features)+1)\n",
    "for i in range(num_features):\n",
    "    dist_all=feature_counts['f'+str(i+1)]['count4all']/num_samples\n",
    "    dist_positive=feature_counts['f'+str(i+1)]['count4positive']/num_positive\n",
    "    KLmetric[i+1]=entropy(dist_positive,dist_all)/np.log(feature_counts['f'+str(i+1)]['num_values'])"
   ]
  },
  {
   "cell_type": "code",
   "execution_count": 170,
   "metadata": {},
   "outputs": [
    {
     "data": {
      "text/plain": [
       "47     0.867411\n",
       "46     0.692988\n",
       "29     0.635688\n",
       "28     0.631100\n",
       "30     0.611112\n",
       "         ...   \n",
       "180    0.001258\n",
       "174    0.000653\n",
       "175    0.000595\n",
       "10     0.000343\n",
       "60     0.000005\n",
       "Length: 297, dtype: float64"
      ]
     },
     "execution_count": 170,
     "metadata": {},
     "output_type": "execute_result"
    }
   ],
   "source": [
    "KLmetric.sort_values(ascending=False)"
   ]
  },
  {
   "cell_type": "code",
   "execution_count": 160,
   "metadata": {},
   "outputs": [],
   "source": [
    "large_deviation={}\n",
    "for i in range(num_features):\n",
    "    detail=feature_counts['f'+str(i+1)]\n",
    "    if detail['feature_type']=='numerical':\n",
    "        large_deviation['f'+str(i+1)]=(detail['mean4all']-detail['mean4positive'])/detail['std4all']"
   ]
  },
  {
   "cell_type": "code",
   "execution_count": 161,
   "metadata": {},
   "outputs": [
    {
     "data": {
      "text/plain": [
       "{'f75': 0.24801408345440443,\n",
       " 'f82': -0.4539001716867476,\n",
       " 'f83': -0.10180952827523183,\n",
       " 'f84': -0.026660404231106643,\n",
       " 'f85': -0.32528282035802886,\n",
       " 'f86': -0.23408108151726897}"
      ]
     },
     "execution_count": 161,
     "metadata": {},
     "output_type": "execute_result"
    }
   ],
   "source": [
    "large_deviation"
   ]
  },
  {
   "cell_type": "code",
   "execution_count": 171,
   "metadata": {
    "collapsed": true
   },
   "outputs": [],
   "source": [
    "detail=feature_counts['f47']"
   ]
  },
  {
   "cell_type": "code",
   "execution_count": 177,
   "metadata": {},
   "outputs": [
    {
     "data": {
      "text/plain": [
       "0.0     0.034837\n",
       "1.0     0.034604\n",
       "2.0     0.000094\n",
       "6.0     0.000005\n",
       "4.0     0.000005\n",
       "          ...   \n",
       "8.0     0.000002\n",
       "9.0     0.000002\n",
       "5.0     0.000001\n",
       "11.0    0.000001\n",
       "10.0    0.000001\n",
       "Name: f47, Length: 12, dtype: float64"
      ]
     },
     "execution_count": 177,
     "metadata": {},
     "output_type": "execute_result"
    }
   ],
   "source": [
    "detail['count4all']/num_samples"
   ]
  },
  {
   "cell_type": "code",
   "execution_count": 178,
   "metadata": {},
   "outputs": [
    {
     "data": {
      "text/plain": [
       "0.0     0.002557\n",
       "1.0     0.003382\n",
       "2.0     0.003465\n",
       "6.0     0.000412\n",
       "4.0     0.000165\n",
       "          ...   \n",
       "8.0     0.000165\n",
       "9.0     0.000165\n",
       "5.0     0.000082\n",
       "11.0    0.000082\n",
       "10.0    0.000082\n",
       "Name: f47, Length: 12, dtype: float64"
      ]
     },
     "execution_count": 178,
     "metadata": {},
     "output_type": "execute_result"
    }
   ],
   "source": [
    "detail['count4positive']/num_positive"
   ]
  },
  {
   "cell_type": "code",
   "execution_count": null,
   "metadata": {
    "collapsed": true
   },
   "outputs": [],
   "source": []
  }
 ],
 "metadata": {
  "kernelspec": {
   "display_name": "Python 3",
   "language": "python",
   "name": "python3"
  },
  "language_info": {
   "codemirror_mode": {
    "name": "ipython",
    "version": 3
   },
   "file_extension": ".py",
   "mimetype": "text/x-python",
   "name": "python",
   "nbconvert_exporter": "python",
   "pygments_lexer": "ipython3",
   "version": "3.6.3"
  }
 },
 "nbformat": 4,
 "nbformat_minor": 2
}
