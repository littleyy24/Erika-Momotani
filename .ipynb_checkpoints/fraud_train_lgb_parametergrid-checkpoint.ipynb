{
 "cells": [
  {
   "cell_type": "code",
   "execution_count": 1,
   "metadata": {
    "collapsed": true
   },
   "outputs": [],
   "source": [
    "%matplotlib inline\n",
    "import pandas as pd\n",
    "import lightgbm as lgb\n",
    "import numpy as np\n",
    "import os\n",
    "from __future__ import division\n",
    "from sklearn.model_selection import train_test_split\n",
    "from sklearn.metrics import roc_auc_score,roc_curve\n",
    "from sklearn.model_selection import ParameterGrid\n",
    "import datetime\n",
    "pd.set_option('display.max_rows', 1000)\n",
    "pd.set_option('display.max_columns', 1000)"
   ]
  },
  {
   "cell_type": "code",
   "execution_count": 2,
   "metadata": {},
   "outputs": [],
   "source": [
    "df_train=pd.read_csv('data/atec_anti_fraud_train.csv', parse_dates=['date'])"
   ]
  },
  {
   "cell_type": "code",
   "execution_count": 3,
   "metadata": {},
   "outputs": [],
   "source": [
    "df_train_clean=df_train.loc[df_train['label']!=-1]\n",
    "del df_train"
   ]
  },
  {
   "cell_type": "code",
   "execution_count": 4,
   "metadata": {},
   "outputs": [],
   "source": [
    "y=df_train_clean['label']\n",
    "X=df_train_clean.drop(['id','label','date'],axis=1)\n",
    "cut_date_train=datetime.datetime(2017,10,20)\n",
    "cut_date_test=datetime.datetime(2017,11,1)"
   ]
  },
  {
   "cell_type": "code",
   "execution_count": 5,
   "metadata": {
    "collapsed": true
   },
   "outputs": [],
   "source": [
    "x_train=X[df_train_clean.date<=cut_date_train]\n",
    "x_test=X[df_train_clean.date>=cut_date_test]\n",
    "y_train=y[df_train_clean.date<=cut_date_train]\n",
    "y_test=y[df_train_clean.date>=cut_date_test]"
   ]
  },
  {
   "cell_type": "code",
   "execution_count": 6,
   "metadata": {},
   "outputs": [
    {
     "name": "stderr",
     "output_type": "stream",
     "text": [
      "/home/littleyy/anaconda3/lib/python3.6/site-packages/numexpr/cpuinfo.py:42: UserWarning: [Errno 12] Cannot allocate memory\n",
      "  warnings.warn(str(e), UserWarning, stacklevel=stacklevel)\n"
     ]
    },
    {
     "data": {
      "text/plain": [
       "<matplotlib.axes._subplots.AxesSubplot at 0x7fd1232704e0>"
      ]
     },
     "execution_count": 6,
     "metadata": {},
     "output_type": "execute_result"
    },
    {
     "data": {
      "image/png": "[encoded data removed]",
      "text/plain": [
       "<matplotlib.figure.Figure at 0x7fd16179c0b8>"
      ]
     },
     "metadata": {},
     "output_type": "display_data"
    }
   ],
   "source": [
    "(df_train_clean.date.value_counts()/df_train_clean.shape[0]).hist()"
   ]
  },
  {
   "cell_type": "code",
   "execution_count": 7,
   "metadata": {},
   "outputs": [
    {
     "data": {
      "text/plain": [
       "f1           3\n",
       "f19          3\n",
       "f17          3\n",
       "f16          3\n",
       "f15          3\n",
       "f14          3\n",
       "f13          3\n",
       "f12          3\n",
       "f11          3\n",
       "f18          3\n",
       "f9           3\n",
       "f8           3\n",
       "f4           3\n",
       "f3           3\n",
       "f2           3\n",
       "f10          3\n",
       "f37          4\n",
       "f36          4\n",
       "f59          4\n",
       "f60          4\n",
       "f272         5\n",
       "f168         5\n",
       "f186         5\n",
       "f166         5\n",
       "f194         5\n",
       "f199         5\n",
       "f6           5\n",
       "f157         5\n",
       "f167         5\n",
       "f254         5\n",
       "f98          6\n",
       "f187         7\n",
       "f159         7\n",
       "f158         7\n",
       "f169         7\n",
       "f188         8\n",
       "f189         8\n",
       "f7           8\n",
       "f255         9\n",
       "f87          9\n",
       "f179         9\n",
       "f160         9\n",
       "f195         9\n",
       "f172         9\n",
       "f200         9\n",
       "f88         10\n",
       "f256        10\n",
       "f61         10\n",
       "f267        10\n",
       "f173        10\n",
       "f170        10\n",
       "f38         10\n",
       "f174        10\n",
       "f180        10\n",
       "f181        10\n",
       "f190        10\n",
       "f99         10\n",
       "f273        10\n",
       "f155        11\n",
       "f89         11\n",
       "f171        11\n",
       "f175        11\n",
       "f257        11\n",
       "f196        11\n",
       "f268        11\n",
       "f201        11\n",
       "f274        12\n",
       "f182        12\n",
       "f276        12\n",
       "f46         12\n",
       "f176        12\n",
       "f269        12\n",
       "f258        13\n",
       "f197        13\n",
       "f191        13\n",
       "f202        13\n",
       "f47         13\n",
       "f90         13\n",
       "f177        14\n",
       "f275        14\n",
       "f156        14\n",
       "f29         15\n",
       "f277        15\n",
       "f183        15\n",
       "f198        15\n",
       "f28         15\n",
       "f203        15\n",
       "f91         16\n",
       "f184        17\n",
       "f62         18\n",
       "f39         18\n",
       "f100        18\n",
       "f178        19\n",
       "f192        19\n",
       "f185        23\n",
       "f30         27\n",
       "f94         28\n",
       "f95         28\n",
       "f92         29\n",
       "f93         29\n",
       "f52         31\n",
       "f31         31\n",
       "f193        31\n",
       "f219        32\n",
       "f220        33\n",
       "f48         33\n",
       "f221        33\n",
       "f222        33\n",
       "f63         33\n",
       "f101        33\n",
       "f40         33\n",
       "f32         33\n",
       "f136        34\n",
       "f127        34\n",
       "f137        34\n",
       "f24         34\n",
       "f139        34\n",
       "f140        34\n",
       "f138        34\n",
       "f141        34\n",
       "f20         34\n",
       "f135        34\n",
       "f125        35\n",
       "f126        35\n",
       "f128        35\n",
       "f96         35\n",
       "f97         36\n",
       "f129        37\n",
       "f123        38\n",
       "f124        39\n",
       "f53         39\n",
       "f41         39\n",
       "f65         60\n",
       "f49         61\n",
       "f33         61\n",
       "f132        63\n",
       "f131        63\n",
       "f133        63\n",
       "f21         65\n",
       "f25         65\n",
       "f50         68\n",
       "f34         68\n",
       "f270        71\n",
       "f239        78\n",
       "f42         82\n",
       "f26         87\n",
       "f54         94\n",
       "f134       101\n",
       "f271       106\n",
       "f51        112\n",
       "f35        112\n",
       "f223       135\n",
       "f264       137\n",
       "f55        146\n",
       "f259       149\n",
       "f27        154\n",
       "f225       157\n",
       "f224       159\n",
       "f249       160\n",
       "f145       161\n",
       "f226       161\n",
       "f146       161\n",
       "f144       162\n",
       "f147       162\n",
       "f130       163\n",
       "f76        163\n",
       "f22        179\n",
       "f230       187\n",
       "f165       195\n",
       "f161       195\n",
       "f211       196\n",
       "f148       206\n",
       "f143       207\n",
       "f142       208\n",
       "f260       216\n",
       "f261       218\n",
       "f64        218\n",
       "f287       230\n",
       "f285       231\n",
       "f286       231\n",
       "f283       232\n",
       "f284       232\n",
       "f77        237\n",
       "f213       238\n",
       "f121       248\n",
       "f116       248\n",
       "f228       249\n",
       "f114       249\n",
       "f115       249\n",
       "f244       249\n",
       "f152       249\n",
       "f122       249\n",
       "f153       250\n",
       "f113       250\n",
       "f164       250\n",
       "f120       251\n",
       "f214       251\n",
       "f111       251\n",
       "f151       251\n",
       "f163       251\n",
       "f227       252\n",
       "f149       252\n",
       "f150       252\n",
       "f117       252\n",
       "f112       252\n",
       "f118       252\n",
       "f251       253\n",
       "f119       253\n",
       "f204       253\n",
       "f229       255\n",
       "f162       255\n",
       "f233       256\n",
       "f212       256\n",
       "f232       256\n",
       "f231       258\n",
       "f252       268\n",
       "f234       271\n",
       "f56        273\n",
       "f241       274\n",
       "f253       275\n",
       "f240       276\n",
       "f242       278\n",
       "f250       278\n",
       "f296       280\n",
       "f243       281\n",
       "f215       292\n",
       "f23        293\n",
       "f246       295\n",
       "f288       299\n",
       "f78        299\n",
       "f68        300\n",
       "f293       300\n",
       "f294       300\n",
       "f295       300\n",
       "f297       300\n",
       "f236       303\n",
       "f235       303\n",
       "f280       303\n",
       "f217       303\n",
       "f79        303\n",
       "f218       303\n",
       "f279       303\n",
       "f69        303\n",
       "f108       303\n",
       "f291       303\n",
       "f247       303\n",
       "f70        303\n",
       "f278       303\n",
       "f245       303\n",
       "f292       303\n",
       "f207       303\n",
       "f206       303\n",
       "f216       303\n",
       "f67        303\n",
       "f205       303\n",
       "f107       303\n",
       "f103       303\n",
       "f102       303\n",
       "f265       311\n",
       "f5         322\n",
       "f262       328\n",
       "f44        331\n",
       "f71        336\n",
       "f57        337\n",
       "f43        338\n",
       "f45        341\n",
       "f289       342\n",
       "f248       342\n",
       "f58        345\n",
       "f208       360\n",
       "f109       362\n",
       "f104       363\n",
       "f80        364\n",
       "f290       374\n",
       "f237       396\n",
       "f266       399\n",
       "f110       400\n",
       "f105       401\n",
       "f154       402\n",
       "f209       404\n",
       "f106       411\n",
       "f281       418\n",
       "f74        422\n",
       "f72        424\n",
       "f263       425\n",
       "f66        425\n",
       "f210       428\n",
       "f81        431\n",
       "f282       484\n",
       "f238       667\n",
       "f73        999\n",
       "f75       1004\n",
       "f82      63787\n",
       "f85     127698\n",
       "f86     189782\n",
       "f83     257673\n",
       "f84     319019\n",
       "dtype: int64"
      ]
     },
     "execution_count": 7,
     "metadata": {},
     "output_type": "execute_result"
    }
   ],
   "source": [
    "X.apply(lambda x:x.unique().size).sort_values()"
   ]
  },
  {
   "cell_type": "code",
   "execution_count": 8,
   "metadata": {},
   "outputs": [
    {
     "data": {
      "text/plain": [
       "1.0    344238\n",
       "2.0    359727\n",
       "3.0     16564\n",
       "4.0       656\n",
       "5.0        42\n",
       "6.0        19\n",
       "7.0        10\n",
       "8.0         2\n",
       "Name: f87, dtype: int64"
      ]
     },
     "execution_count": 8,
     "metadata": {},
     "output_type": "execute_result"
    }
   ],
   "source": [
    "X['f87'].value_counts().sort_index()"
   ]
  },
  {
   "cell_type": "code",
   "execution_count": 9,
   "metadata": {
    "collapsed": true
   },
   "outputs": [],
   "source": [
    "num_values=2000\n",
    "category_feature=[]\n",
    "for i in range(X.shape[1]):\n",
    "    num = X['f'+str(i+1)].unique().shape[0]\n",
    "    if num <=num_values:\n",
    "        category_feature.append(i)"
   ]
  },
  {
   "cell_type": "code",
   "execution_count": 10,
   "metadata": {},
   "outputs": [],
   "source": [
    "del df_train_clean, X, y"
   ]
  },
  {
   "cell_type": "code",
   "execution_count": 11,
   "metadata": {
    "collapsed": true
   },
   "outputs": [],
   "source": [
    "def atec_metric(preds, train_data):\n",
    "    labels = train_data.get_label()\n",
    "    fpr,tpr,threshhold=roc_curve(labels, preds)\n",
    "    return 'atec_metric', 0.4*tpr[fpr<=0.001][-1] + 0.3*tpr[fpr<=0.005][-1] + 0.3*tpr[fpr<=0.01][-1], True"
   ]
  },
  {
   "cell_type": "code",
   "execution_count": 12,
   "metadata": {
    "collapsed": true
   },
   "outputs": [],
   "source": [
    "feature_name=['feasture_'+str(col+1) for col in range(x_train.shape[1])]\n",
    "lgb_train=lgb.Dataset(x_train,y_train,free_raw_data=False,feature_name=feature_name, categorical_feature=category_feature)\n",
    "lgb_valid=lgb.Dataset(x_test,y_test,reference=lgb_train,free_raw_data=False,feature_name=feature_name, categorical_feature=category_feature)"
   ]
  },
  {
   "cell_type": "code",
   "execution_count": 13,
   "metadata": {},
   "outputs": [],
   "source": [
    "params = {\n",
    "    'boosting_type': 'gbdt',\n",
    "    'objective': 'binary',\n",
    "    'metric': 'auc',\n",
    "    'device': 'cpu',\n",
    "    'verbose': 0\n",
    "}\n",
    "params_reg = {\n",
    "    'feature_fraction': 0.9,\n",
    "    'bagging_fraction': 0.8,\n",
    "    'bagging_freq': 5,\n",
    "}"
   ]
  },
  {
   "cell_type": "code",
   "execution_count": 14,
   "metadata": {
    "collapsed": true
   },
   "outputs": [],
   "source": [
    "params_grid = {\n",
    "    'num_leaves': [2**n for n in range(1, 11)],\n",
    "    'early_stopping_round': [10, 50],\n",
    "    'learning_rate': [10**(-n) for n in np.arange(1., 3.1, 0.1)],\n",
    "    'reg': [True, False]\n",
    "}\n",
    "params_list=ParameterGrid(params_grid)"
   ]
  },
  {
   "cell_type": "code",
   "execution_count": 15,
   "metadata": {},
   "outputs": [
    {
     "name": "stderr",
     "output_type": "stream",
     "text": [
      "/home/littleyy/anaconda3/lib/python3.6/site-packages/lightgbm/engine.py:104: UserWarning: Found `early_stopping_round` in params. Will use it instead of argument\n",
      "  warnings.warn(\"Found `{}` in params. Will use it instead of argument\".format(alias))\n",
      "/home/littleyy/anaconda3/lib/python3.6/site-packages/lightgbm/basic.py:1036: UserWarning: Using categorical_feature in Dataset.\n",
      "  warnings.warn('Using categorical_feature in Dataset.')\n",
      "/home/littleyy/anaconda3/lib/python3.6/site-packages/lightgbm/basic.py:681: UserWarning: categorical_feature in param dict is overridden.\n",
      "  warnings.warn('categorical_feature in param dict is overridden.')\n"
     ]
    },
    {
     "name": "stdout",
     "output_type": "stream",
     "text": [
      "params:  {'early_stopping_round': 10, 'learning_rate': 0.1, 'num_leaves': 2, 'feature_fraction': 0.9, 'bagging_fraction': 0.8, 'bagging_freq': 5} \n",
      "score:  0.34951550387596897\n",
      "params:  {'early_stopping_round': 10, 'learning_rate': 0.1, 'num_leaves': 2} \n",
      "score:  0.32122093023255816\n",
      "params:  {'early_stopping_round': 10, 'learning_rate': 0.1, 'num_leaves': 4, 'feature_fraction': 0.9, 'bagging_fraction': 0.8, 'bagging_freq': 5} \n",
      "score:  0.4059108527131783\n",
      "params:  {'early_stopping_round': 10, 'learning_rate': 0.1, 'num_leaves': 4} \n",
      "score:  0.3982558139534884\n",
      "params:  {'early_stopping_round': 10, 'learning_rate': 0.1, 'num_leaves': 8, 'feature_fraction': 0.9, 'bagging_fraction': 0.8, 'bagging_freq': 5} \n",
      "score:  0.4878875968992248\n",
      "params:  {'early_stopping_round': 10, 'learning_rate': 0.1, 'num_leaves': 8} \n",
      "score:  0.48672480620155034\n",
      "params:  {'early_stopping_round': 10, 'learning_rate': 0.1, 'num_leaves': 16, 'feature_fraction': 0.9, 'bagging_fraction': 0.8, 'bagging_freq': 5} \n",
      "score:  0.49379844961240316\n",
      "params:  {'early_stopping_round': 10, 'learning_rate': 0.1, 'num_leaves': 16} \n",
      "score:  0.4926356589147287\n",
      "params:  {'early_stopping_round': 10, 'learning_rate': 0.1, 'num_leaves': 32, 'feature_fraction': 0.9, 'bagging_fraction': 0.8, 'bagging_freq': 5} \n",
      "score:  0.5000968992248062\n",
      "params:  {'early_stopping_round': 10, 'learning_rate': 0.1, 'num_leaves': 32} \n",
      "score:  0.5018410852713178\n"
     ]
    },
    {
     "ename": "KeyboardInterrupt",
     "evalue": "",
     "output_type": "error",
     "traceback": [
      "\u001b[0;31m---------------------------------------------------------------------------\u001b[0m",
      "\u001b[0;31mKeyboardInterrupt\u001b[0m                         Traceback (most recent call last)",
      "\u001b[0;32m<ipython-input-15-01792a3a4fca>\u001b[0m in \u001b[0;36m<module>\u001b[0;34m()\u001b[0m\n\u001b[1;32m      8\u001b[0m     \u001b[0;32mdel\u001b[0m \u001b[0mp\u001b[0m\u001b[0;34m[\u001b[0m\u001b[0;34m'reg'\u001b[0m\u001b[0;34m]\u001b[0m\u001b[0;34m\u001b[0m\u001b[0m\n\u001b[1;32m      9\u001b[0m     \u001b[0mp0\u001b[0m\u001b[0;34m.\u001b[0m\u001b[0mupdate\u001b[0m\u001b[0;34m(\u001b[0m\u001b[0mp\u001b[0m\u001b[0;34m)\u001b[0m\u001b[0;34m\u001b[0m\u001b[0m\n\u001b[0;32m---> 10\u001b[0;31m     \u001b[0mgbm\u001b[0m \u001b[0;34m=\u001b[0m \u001b[0mlgb\u001b[0m\u001b[0;34m.\u001b[0m\u001b[0mtrain\u001b[0m\u001b[0;34m(\u001b[0m\u001b[0mp0\u001b[0m\u001b[0;34m,\u001b[0m \u001b[0mlgb_train\u001b[0m\u001b[0;34m,\u001b[0m \u001b[0mnum_boost_round\u001b[0m\u001b[0;34m=\u001b[0m\u001b[0;36m10000\u001b[0m\u001b[0;34m,\u001b[0m \u001b[0mvalid_sets\u001b[0m\u001b[0;34m=\u001b[0m\u001b[0mlgb_valid\u001b[0m\u001b[0;34m,\u001b[0m \u001b[0mvalid_names\u001b[0m\u001b[0;34m=\u001b[0m\u001b[0;34m'valid_set'\u001b[0m\u001b[0;34m,\u001b[0m \u001b[0mfeval\u001b[0m\u001b[0;34m=\u001b[0m\u001b[0matec_metric\u001b[0m\u001b[0;34m,\u001b[0m \u001b[0mverbose_eval\u001b[0m\u001b[0;34m=\u001b[0m\u001b[0;32mFalse\u001b[0m\u001b[0;34m)\u001b[0m\u001b[0;34m\u001b[0m\u001b[0m\n\u001b[0m\u001b[1;32m     11\u001b[0m     \u001b[0mscore\u001b[0m \u001b[0;34m=\u001b[0m \u001b[0matec_metric\u001b[0m\u001b[0;34m(\u001b[0m\u001b[0mgbm\u001b[0m\u001b[0;34m.\u001b[0m\u001b[0mpredict\u001b[0m\u001b[0;34m(\u001b[0m\u001b[0mx_test\u001b[0m\u001b[0;34m)\u001b[0m\u001b[0;34m,\u001b[0m \u001b[0mlgb_valid\u001b[0m\u001b[0;34m)\u001b[0m\u001b[0;34m[\u001b[0m\u001b[0;36m1\u001b[0m\u001b[0;34m]\u001b[0m\u001b[0;34m\u001b[0m\u001b[0m\n\u001b[1;32m     12\u001b[0m     \u001b[0mprint\u001b[0m\u001b[0;34m(\u001b[0m\u001b[0;34m\"params: \"\u001b[0m\u001b[0;34m,\u001b[0m \u001b[0mp\u001b[0m\u001b[0;34m,\u001b[0m \u001b[0;34m\"\\n\"\u001b[0m\u001b[0;34m+\u001b[0m\u001b[0;34m\"score: \"\u001b[0m\u001b[0;34m,\u001b[0m \u001b[0mscore\u001b[0m\u001b[0;34m)\u001b[0m\u001b[0;34m\u001b[0m\u001b[0m\n",
      "\u001b[0;32m~/anaconda3/lib/python3.6/site-packages/lightgbm/engine.py\u001b[0m in \u001b[0;36mtrain\u001b[0;34m(params, train_set, num_boost_round, valid_sets, valid_names, fobj, feval, init_model, feature_name, categorical_feature, early_stopping_rounds, evals_result, verbose_eval, learning_rates, keep_training_booster, callbacks)\u001b[0m\n\u001b[1;32m    199\u001b[0m                                     evaluation_result_list=None))\n\u001b[1;32m    200\u001b[0m \u001b[0;34m\u001b[0m\u001b[0m\n\u001b[0;32m--> 201\u001b[0;31m         \u001b[0mbooster\u001b[0m\u001b[0;34m.\u001b[0m\u001b[0mupdate\u001b[0m\u001b[0;34m(\u001b[0m\u001b[0mfobj\u001b[0m\u001b[0;34m=\u001b[0m\u001b[0mfobj\u001b[0m\u001b[0;34m)\u001b[0m\u001b[0;34m\u001b[0m\u001b[0m\n\u001b[0m\u001b[1;32m    202\u001b[0m \u001b[0;34m\u001b[0m\u001b[0m\n\u001b[1;32m    203\u001b[0m         \u001b[0mevaluation_result_list\u001b[0m \u001b[0;34m=\u001b[0m \u001b[0;34m[\u001b[0m\u001b[0;34m]\u001b[0m\u001b[0;34m\u001b[0m\u001b[0m\n",
      "\u001b[0;32m~/anaconda3/lib/python3.6/site-packages/lightgbm/basic.py\u001b[0m in \u001b[0;36mupdate\u001b[0;34m(self, train_set, fobj)\u001b[0m\n\u001b[1;32m   1522\u001b[0m             _safe_call(_LIB.LGBM_BoosterUpdateOneIter(\n\u001b[1;32m   1523\u001b[0m                 \u001b[0mself\u001b[0m\u001b[0;34m.\u001b[0m\u001b[0mhandle\u001b[0m\u001b[0;34m,\u001b[0m\u001b[0;34m\u001b[0m\u001b[0m\n\u001b[0;32m-> 1524\u001b[0;31m                 ctypes.byref(is_finished)))\n\u001b[0m\u001b[1;32m   1525\u001b[0m             \u001b[0mself\u001b[0m\u001b[0;34m.\u001b[0m\u001b[0m__is_predicted_cur_iter\u001b[0m \u001b[0;34m=\u001b[0m \u001b[0;34m[\u001b[0m\u001b[0;32mFalse\u001b[0m \u001b[0;32mfor\u001b[0m \u001b[0m_\u001b[0m \u001b[0;32min\u001b[0m \u001b[0mrange_\u001b[0m\u001b[0;34m(\u001b[0m\u001b[0mself\u001b[0m\u001b[0;34m.\u001b[0m\u001b[0m__num_dataset\u001b[0m\u001b[0;34m)\u001b[0m\u001b[0;34m]\u001b[0m\u001b[0;34m\u001b[0m\u001b[0m\n\u001b[1;32m   1526\u001b[0m             \u001b[0;32mreturn\u001b[0m \u001b[0mis_finished\u001b[0m\u001b[0;34m.\u001b[0m\u001b[0mvalue\u001b[0m \u001b[0;34m==\u001b[0m \u001b[0;36m1\u001b[0m\u001b[0;34m\u001b[0m\u001b[0m\n",
      "\u001b[0;31mKeyboardInterrupt\u001b[0m: "
     ]
    }
   ],
   "source": [
    "best_params = []\n",
    "scores = dict()\n",
    "best_score = 0\n",
    "for p in list(params_list):\n",
    "    p0 = params.copy()\n",
    "    if p['reg']:\n",
    "        p.update(params_reg)\n",
    "    del p['reg']\n",
    "    p0.update(p)\n",
    "    gbm = lgb.train(p0, lgb_train, num_boost_round=10000, valid_sets=lgb_valid, valid_names='valid_set', feval=atec_metric, verbose_eval=False)\n",
    "    score = atec_metric(gbm.predict(x_test), lgb_valid)[1]\n",
    "    print(\"params: \", p, \"\\n\"+\"score: \", score)\n",
    "    if score > best_score:\n",
    "        best_score = score\n",
    "        best_params = params"
   ]
  },
  {
   "cell_type": "code",
   "execution_count": 41,
   "metadata": {},
   "outputs": [
    {
     "name": "stdout",
     "output_type": "stream",
     "text": [
      "0.4996124031007752 {'boosting_type': 'gbdt', 'device': 'cpu', 'learning_rate': 0.05, 'metric': 'auc', 'num_leaves': 35, 'objective': 'binary', 'train_metric': True, 'verbose': 0}\n"
     ]
    }
   ],
   "source": [
    "print(best_score,best_params)"
   ]
  }
 ],
 "metadata": {
  "kernelspec": {
   "display_name": "Python 3",
   "language": "python",
   "name": "python3"
  },
  "language_info": {
   "codemirror_mode": {
    "name": "ipython",
    "version": 3
   },
   "file_extension": ".py",
   "mimetype": "text/x-python",
   "name": "python",
   "nbconvert_exporter": "python",
   "pygments_lexer": "ipython3",
   "version": "3.6.4"
  }
 },
 "nbformat": 4,
 "nbformat_minor": 2
}
